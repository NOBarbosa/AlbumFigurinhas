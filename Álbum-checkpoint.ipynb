{
 "cells": [
  {
   "cell_type": "markdown",
   "metadata": {},
   "source": [
    "# Projeto: Álbum de Figurinhas <br>\n",
    "\n"
   ]
  },
  {
   "cell_type": "markdown",
   "metadata": {},
   "source": [
    "## Objetivos: \n",
    "<p>Analisar o custo médio para completar um álbum de figurinhas seguindos as seguintes suposições:<br>\n",
    "i) Todas as figurinhas tem igual probabilidade de serem sorteadas;<br>\n",
    "ii)Um pacote é comprado até que o álbum esteja completo.\n"
   ]
  },
  {
   "cell_type": "markdown",
   "metadata": {},
   "source": [
    "###### Vamos começar com as seguntes informações:\n",
    "O álbum possui 200 figurinhas.<br>\n",
    "\n",
    "O preço do álbum vazio é R$ 50,00.\n",
    "\n",
    "Cada pacote custa R$4,00.\n",
    "\n",
    "Cada pacote contém 4 figurinhas.\n",
    "\n",
    "\n"
   ]
  },
  {
   "cell_type": "code",
   "execution_count": null,
   "metadata": {},
   "outputs": [],
   "source": [
    "import numpy as np\n",
    "\n",
    "album = 200\n",
    "precoAlbum = 50\n",
    "precoPacote = 4\n",
    "\n",
    "'''#representação do álbum vazio\n",
    "album = np.zeros(album)  \n",
    "\n",
    "\n",
    "#representação do sorteio de figurinhas aleatórias em um pacote\n",
    "pacotinho = np.random.choice(len(album), size = 4)\n",
    "pacotinho\n",
    "\n",
    "#variável para contar a quantidade de pacotes comprados\n",
    "pacote = 0\n",
    "\n",
    "#loop que fará a função de 'colar' a figurinha no pacote.\n",
    "#Uma vez sorteada as 4 figurinhas de pacotinho, tomaremos a figurinha em sua respectiva posição no álbum e somaremos o valor atual com 1.\n",
    "\n",
    "for figurinha in pacotinho:\n",
    "    album[figurinha] += 1\n"
   ]
  },
  {
   "cell_type": "code",
   "execution_count": 4,
   "metadata": {},
   "outputs": [],
   "source": [
    "#Comprando pacotes até completar o álbum\n",
    "import numpy as np\n",
    "tamanhoAlbum = 200\n",
    "precoAlbum = 50\n",
    "precoPacote = 4\n",
    "\n",
    "\n",
    "\n",
    "\n",
    "def completaAlbum():\n",
    "    album = np.zeros(tamanhoAlbum) \n",
    "    pacote = 0\n",
    "    \n",
    "    while True:\n",
    "        pacotinho = np.random.choice(range(tamanhoAlbum), size = 4)\n",
    "        pacote += 1\n",
    "        \n",
    "        for figurinha in pacotinho:\n",
    "            album[figurinha]+= 1\n",
    "            \n",
    "        if np.all(album >= 1):\n",
    "            break\n",
    "            \n",
    "    valorGasto = precoAlbum + (precoPacote*pacote)\n",
    "    \n",
    "   \n",
    "    #print('Para completar o álbum foram necessário {} pacotes e custou R$ {:.2f}'.format(pacote, valorGasto))\n",
    "    \n",
    "    return valorGasto, pacote\n",
    "    \n",
    "    "
   ]
  },
  {
   "cell_type": "code",
   "execution_count": 5,
   "metadata": {},
   "outputs": [
    {
     "data": {
      "text/plain": [
       "(966, 229)"
      ]
     },
     "execution_count": 5,
     "metadata": {},
     "output_type": "execute_result"
    }
   ],
   "source": [
    "completaAlbum()"
   ]
  },
  {
   "cell_type": "code",
   "execution_count": 16,
   "metadata": {},
   "outputs": [],
   "source": [
    "#Vamos reproduzir a simulação 1000 vezes e tirar o preço médio para completar o àlbum.\n",
    "\n",
    "numSimulacoes = 1000\n",
    "def simulacoes(numSimulacoes):\n",
    "    resultados = []\n",
    "\n",
    "    for i in range(numSimulacoes):\n",
    "        pessoa = completaAlbum()[0]\n",
    "        resultados.append(pessoa)\n",
    "    return np.array(resultados).mean()\n",
    "\n"
   ]
  },
  {
   "cell_type": "code",
   "execution_count": 18,
   "metadata": {},
   "outputs": [
    {
     "data": {
      "text/plain": [
       "1192.04"
      ]
     },
     "execution_count": 18,
     "metadata": {},
     "output_type": "execute_result"
    }
   ],
   "source": [
    "simulacoes(numSimulacoes)"
   ]
  },
  {
   "cell_type": "code",
   "execution_count": null,
   "metadata": {},
   "outputs": [],
   "source": []
  },
  {
   "cell_type": "code",
   "execution_count": null,
   "metadata": {},
   "outputs": [],
   "source": []
  }
 ],
 "metadata": {
  "kernelspec": {
   "display_name": "Python 3",
   "language": "python",
   "name": "python3"
  },
  "language_info": {
   "codemirror_mode": {
    "name": "ipython",
    "version": 3
   },
   "file_extension": ".py",
   "mimetype": "text/x-python",
   "name": "python",
   "nbconvert_exporter": "python",
   "pygments_lexer": "ipython3",
   "version": "3.8.5"
  }
 },
 "nbformat": 4,
 "nbformat_minor": 4
}
